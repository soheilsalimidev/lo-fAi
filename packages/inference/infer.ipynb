{
 "cells": [
  {
   "cell_type": "code",
   "execution_count": null,
   "metadata": {},
   "outputs": [],
   "source": [
    "%pip install torch --upgrade --extra-index-url https://download.pytorch.org/whl/cu121\n",
    "%pip install pydub tinysoundfont tqdm mido\n",
    "%pip install huggingface_hub[hf_transfer]"
   ]
  },
  {
   "cell_type": "code",
   "execution_count": null,
   "metadata": {},
   "outputs": [],
   "source": [
    "%git lfs install\n",
    "%git clone https://huggingface.co/soheilsalimidev/lo-fAi  ./models"
   ]
  },
  {
   "cell_type": "code",
   "execution_count": null,
   "metadata": {},
   "outputs": [],
   "source": [
    "%git clone https://github.com/soheilsalimidev/lo-fAi.git  ./codes"
   ]
  },
  {
   "cell_type": "code",
   "execution_count": null,
   "metadata": {},
   "outputs": [],
   "source": [
    "import os\n",
    "import sys\n",
    "\n",
    "def relpath(p): return os.path.normpath(\n",
    "    os.path.join(os.path.dirname(__file__), p))\n",
    "\n",
    "\n",
    "os.environ[\"RWKV_JIT_ON\"] = \"0\"\n",
    "os.environ[\"RWKV_CUDA_ON\"] = \"0\"\n",
    "os.environ[\"LOCAL\"] = \"0\"\n",
    "os.environ[\"PIANO_MODEL_PATH\"] = relpath('./models/rwkv-piano.pth')\n",
    "os.environ[\"DRUM_MODEL_PATH\"] = relpath('./models/ rwkv-drum.pth')\n",
    "\n",
    "sys.path.append(relpath(\"./codes/packages/inference\"))\n",
    "sys.path.append(relpath(\"./codes/packages/model\"))\n",
    "sys.path.append(relpath(\"./codes/packages/model/src/tokenizer\"))"
   ]
  },
  {
   "cell_type": "code",
   "execution_count": null,
   "metadata": {},
   "outputs": [],
   "source": [
    "import random\n",
    "from inferRWKV import mixTheSongs\n",
    "\n",
    "song_len = 100\n",
    "out_len = 60\n",
    "temperature = 1.0\n",
    "\n",
    "context = input('Enter encode context for leave empty for random generation')\n",
    "\n",
    "if context is None:\n",
    "    context = f\"{random.randint(50,90):x}:{random.randint(1,16):x} t{random.randint(20,80)} \" * 2\n",
    "\n",
    "songPath = mixTheSongs(song_len, context, out_len, temperature)\n",
    "\n",
    "Audio(filename=songPath)"
   ]
  }
 ],
 "metadata": {
  "language_info": {
   "name": "python"
  }
 },
 "nbformat": 4,
 "nbformat_minor": 2
}
